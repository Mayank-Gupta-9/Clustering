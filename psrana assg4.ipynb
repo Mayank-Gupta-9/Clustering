{
 "cells": [
  {
   "cell_type": "code",
   "execution_count": null,
   "id": "fefe9549",
   "metadata": {},
   "outputs": [],
   "source": [
    "import pandas as pd\n",
    "import numpy as np\n",
    "from pycaret.datasets import get_data"
   ]
  },
  {
   "cell_type": "code",
   "execution_count": null,
   "id": "816d3c21",
   "metadata": {},
   "outputs": [],
   "source": [
    "df=pd.read_csv('E:/downloads/Raisin_Dataset.csv')"
   ]
  },
  {
   "cell_type": "code",
   "execution_count": null,
   "id": "7c5b4147",
   "metadata": {},
   "outputs": [],
   "source": [
    "df.head()"
   ]
  },
  {
   "cell_type": "code",
   "execution_count": null,
   "id": "a71c6f39",
   "metadata": {},
   "outputs": [],
   "source": []
  },
  {
   "cell_type": "code",
   "execution_count": null,
   "id": "abdf4b87",
   "metadata": {},
   "outputs": [],
   "source": [
    "from pycaret.utils import version\n",
    "version()"
   ]
  },
  {
   "cell_type": "code",
   "execution_count": null,
   "id": "31bd64a0",
   "metadata": {},
   "outputs": [],
   "source": [
    "from pycaret.clustering import *\n",
    "kMeanClusteringParameters = setup(df)"
   ]
  },
  {
   "cell_type": "markdown",
   "id": "8ef252ff",
   "metadata": {},
   "source": [
    "# kmeans"
   ]
  },
  {
   "cell_type": "code",
   "execution_count": null,
   "id": "f3508a96",
   "metadata": {},
   "outputs": [],
   "source": [
    "kmeanmodel = create_model('kmeans',num_clusters=4)"
   ]
  },
  {
   "cell_type": "code",
   "execution_count": null,
   "id": "117e3b3a",
   "metadata": {},
   "outputs": [],
   "source": [
    "kmeanprediction = assign_model(kmeanmodel)\n",
    "kmeanprediction"
   ]
  },
  {
   "cell_type": "code",
   "execution_count": null,
   "id": "72fb5ad5",
   "metadata": {},
   "outputs": [],
   "source": [
    "evaluate_model(kmeanmodel)"
   ]
  },
  {
   "cell_type": "code",
   "execution_count": null,
   "id": "c80cbaaf",
   "metadata": {},
   "outputs": [],
   "source": [
    "plot_model(kmeanmodel,plot='cluster')"
   ]
  },
  {
   "cell_type": "code",
   "execution_count": null,
   "id": "5cee84c7",
   "metadata": {},
   "outputs": [],
   "source": [
    "plot_model(kmeanmodel,plot='tsne')\n",
    "plot_model(kmeanmodel,plot='elbow')\n",
    "plot_model(kmeanmodel,plot='distribution')\n",
    "plot_model(kmeanmodel,plot='distance')"
   ]
  },
  {
   "cell_type": "code",
   "execution_count": null,
   "id": "4f3e81c3",
   "metadata": {},
   "outputs": [],
   "source": [
    "setup(data = df, verbose=False)\n",
    "\n",
    "print(\"For Cluster = 3\")\n",
    "x = create_model('kmeans', num_clusters = 3)\n",
    "\n",
    "print(\"For Cluster = 4\")\n",
    "x = create_model('kmeans', num_clusters = 4)\n",
    "\n",
    "print(\"For Cluster = 5\")\n",
    "x = create_model('kmeans', num_clusters = 5)\n",
    "\n",
    "print(\"For Cluster = 6\")\n",
    "x = create_model('kmeans', num_clusters = 6)"
   ]
  },
  {
   "cell_type": "code",
   "execution_count": null,
   "id": "55eb2b4e",
   "metadata": {},
   "outputs": [],
   "source": [
    "setup(data=df,normalize=True, normalize_method = 'zscore' , verbose = False)\n",
    "x=create_model('kmeans')\n",
    "plot_model(x,plot='elbow')\n",
    "plot_model(x,plot='tsne')"
   ]
  },
  {
   "cell_type": "code",
   "execution_count": null,
   "id": "725569ff",
   "metadata": {},
   "outputs": [],
   "source": [
    "setup(data=df,normalize=True, normalize_method = 'zscore' , verbose = False)\n",
    "\n",
    "print(\"For Cluster = 3\")\n",
    "x = create_model('kmeans', num_clusters = 3)\n",
    "\n",
    "print(\"For Cluster = 4\")\n",
    "x = create_model('kmeans', num_clusters = 4)\n",
    "\n",
    "print(\"For Cluster = 5\")\n",
    "x = create_model('kmeans', num_clusters = 5)\n",
    "\n",
    "print(\"For Cluster = 6\")\n",
    "x = create_model('kmeans', num_clusters = 6)"
   ]
  },
  {
   "cell_type": "code",
   "execution_count": null,
   "id": "8da29091",
   "metadata": {},
   "outputs": [],
   "source": [
    "setup(data =df, transformation = True, transformation_method = 'yeo-johnson', verbose=False)\n",
    "x = create_model('kmeans')\n",
    "plot_model(x, plot = 'elbow')\n",
    "plot_model(x, plot = 'tsne')"
   ]
  },
  {
   "cell_type": "code",
   "execution_count": null,
   "id": "120260b2",
   "metadata": {},
   "outputs": [],
   "source": [
    "setup(data=df,transformation=True,transformation_method = 'yeo-johnson',verbose = False)\n",
    "\n",
    "print(\"For Cluster = 3\")\n",
    "x = create_model('kmeans', num_clusters = 3)\n",
    "\n",
    "print(\"For Cluster = 4\")\n",
    "x = create_model('kmeans', num_clusters = 4)\n",
    "\n",
    "print(\"For Cluster = 5\")\n",
    "x = create_model('kmeans', num_clusters = 5)\n",
    "\n",
    "print(\"For Cluster = 6\")\n",
    "x = create_model('kmeans', num_clusters = 6)"
   ]
  },
  {
   "cell_type": "code",
   "execution_count": null,
   "id": "0ec74e8a",
   "metadata": {},
   "outputs": [],
   "source": [
    "setup(data= df, pca=True, pca_method ='linear', verbose =False)\n",
    "x=create_model('kmeans')\n",
    "plot_model(x,plot='elbow')\n",
    "plot_model(x,plot='tsne')"
   ]
  },
  {
   "cell_type": "code",
   "execution_count": null,
   "id": "df934c2f",
   "metadata": {},
   "outputs": [],
   "source": [
    "setup(data= df, pca=True, pca_method ='linear', verbose =False)\n",
    "\n",
    "print(\"For Cluster = 3\")\n",
    "x = create_model('kmeans', num_clusters = 3)\n",
    "\n",
    "print(\"For Cluster = 4\")\n",
    "x = create_model('kmeans', num_clusters = 4)\n",
    "\n",
    "print(\"For Cluster = 5\")\n",
    "x = create_model('kmeans', num_clusters = 5)\n",
    "\n",
    "print(\"For Cluster = 6\")\n",
    "x = create_model('kmeans', num_clusters = 6)"
   ]
  },
  {
   "cell_type": "code",
   "execution_count": null,
   "id": "05870ee9",
   "metadata": {},
   "outputs": [],
   "source": [
    "setup(data = df, transformation = True, normalize = True,\n",
    "      normalize_method = 'zscore', transformation_method = 'yeo-johnson', verbose=False)\n",
    "x = create_model('kmeans')\n",
    "plot_model(x, plot = 'elbow')\n",
    "plot_model(x,plot='tsne')"
   ]
  },
  {
   "cell_type": "code",
   "execution_count": null,
   "id": "e3af2c6a",
   "metadata": {},
   "outputs": [],
   "source": [
    "setup(data = df, transformation = True, normalize = True,\n",
    "      normalize_method = 'zscore', transformation_method = 'yeo-johnson', verbose=False)\n",
    "\n",
    "print(\"For Cluster = 3\")\n",
    "x = create_model('kmeans', num_clusters = 3)\n",
    "\n",
    "print(\"For Cluster = 4\")\n",
    "x = create_model('kmeans', num_clusters = 4)\n",
    "\n",
    "print(\"For Cluster = 5\")\n",
    "x = create_model('kmeans', num_clusters = 5)\n",
    "\n",
    "print(\"For Cluster = 6\")\n",
    "x = create_model('kmeans', num_clusters = 6)\n"
   ]
  },
  {
   "cell_type": "code",
   "execution_count": null,
   "id": "d6fb26cc",
   "metadata": {},
   "outputs": [],
   "source": [
    "setup(data = df, transformation = True, normalize = True, pca = True,\n",
    "      normalize_method = 'zscore', transformation_method = 'yeo-johnson',\n",
    "      pca_method = 'linear', verbose=False)\n",
    "x = create_model('kmeans')\n",
    "plot_model(x, plot = 'elbow')\n",
    "plot_model(x,plot='tsne')"
   ]
  },
  {
   "cell_type": "code",
   "execution_count": null,
   "id": "f793a86c",
   "metadata": {},
   "outputs": [],
   "source": [
    "setup(data = df, transformation = True, normalize = True, pca = True,\n",
    "      normalize_method = 'zscore',\n",
    "      transformation_method = 'yeo-johnson',\n",
    "      pca_method = 'linear', verbose=False)\n",
    "\n",
    "print(\"For Cluster = 3\")\n",
    "x = create_model('kmeans', num_clusters = 3)\n",
    "\n",
    "print(\"For Cluster = 4\")\n",
    "x = create_model('kmeans', num_clusters = 4)\n",
    "\n",
    "print(\"For Cluster = 5\")\n",
    "x = create_model('kmeans', num_clusters = 5)\n",
    "\n",
    "print(\"For Cluster = 6\")\n",
    "x = create_model('kmeans', num_clusters = 6)"
   ]
  },
  {
   "cell_type": "markdown",
   "id": "4f486276",
   "metadata": {},
   "source": [
    "# ap"
   ]
  },
  {
   "cell_type": "code",
   "execution_count": null,
   "id": "277c0407",
   "metadata": {},
   "outputs": [],
   "source": [
    "setup(data=df,verbose=False)\n",
    "x=create_model('ap')"
   ]
  },
  {
   "cell_type": "code",
   "execution_count": null,
   "id": "316b4a0f",
   "metadata": {},
   "outputs": [],
   "source": [
    "apmodel = create_model('ap', num_clusters=3)\n",
    "apmodelprediction = assign_model(apmodel)\n",
    "apmodelprediction"
   ]
  },
  {
   "cell_type": "code",
   "execution_count": null,
   "id": "cfbcbaa4",
   "metadata": {},
   "outputs": [],
   "source": [
    "evaluate_model(apmodel)"
   ]
  },
  {
   "cell_type": "code",
   "execution_count": null,
   "id": "95652f85",
   "metadata": {},
   "outputs": [],
   "source": [
    "plot_model(apmodel,plot='cluster')"
   ]
  },
  {
   "cell_type": "code",
   "execution_count": null,
   "id": "77ba140e",
   "metadata": {},
   "outputs": [],
   "source": [
    "plot_model(apmodel,plot='tsne')"
   ]
  },
  {
   "cell_type": "code",
   "execution_count": null,
   "id": "4d5e2613",
   "metadata": {},
   "outputs": [],
   "source": [
    "setup(data = df, verbose=False)\n",
    "\n",
    "print(\"For Cluster = 3\")\n",
    "x = create_model('ap', num_clusters = 3)\n",
    "\n",
    "print(\"For Cluster = 4\")\n",
    "x = create_model('ap', num_clusters = 4)\n",
    "\n",
    "print(\"For Cluster = 5\")\n",
    "x = create_model('ap', num_clusters = 5)\n",
    "\n",
    "print(\"For Cluster = 6\")\n",
    "x = create_model('ap', num_clusters = 6)\n"
   ]
  },
  {
   "cell_type": "code",
   "execution_count": null,
   "id": "e227ac22",
   "metadata": {},
   "outputs": [],
   "source": [
    "plot_model(apmodel,plot='distribution')"
   ]
  },
  {
   "cell_type": "code",
   "execution_count": null,
   "id": "4f6da789",
   "metadata": {},
   "outputs": [],
   "source": [
    "setup(data=df,normalize=True, normalize_method = 'zscore' , verbose = False)\n",
    "x=create_model('ap')\n",
    "plot_model(x,plot='tsne')"
   ]
  },
  {
   "cell_type": "code",
   "execution_count": null,
   "id": "1ebf4a1c",
   "metadata": {},
   "outputs": [],
   "source": [
    "setup(data=df,normalize=True, normalize_method = 'zscore' , verbose = False)\n",
    "\n",
    "print(\"For Cluster = 3\")\n",
    "x = create_model('ap', num_clusters = 3)\n",
    "\n",
    "print(\"For Cluster = 4\")\n",
    "x = create_model('ap', num_clusters = 4)\n",
    "\n",
    "print(\"For Cluster = 5\")\n",
    "x = create_model('ap', num_clusters = 5)\n",
    "\n",
    "print(\"For Cluster = 6\")\n",
    "x = create_model('ap', num_clusters = 6)"
   ]
  },
  {
   "cell_type": "code",
   "execution_count": null,
   "id": "1616fd76",
   "metadata": {},
   "outputs": [],
   "source": [
    "setup(data =df, transformation = True, transformation_method = 'yeo-johnson', verbose=False)\n",
    "x = create_model('ap')\n",
    "plot_model(x,plot='tsne')"
   ]
  },
  {
   "cell_type": "code",
   "execution_count": null,
   "id": "5c632510",
   "metadata": {},
   "outputs": [],
   "source": [
    "setup(data=df,transformation=True,transformation_method = 'yeo-johnson',verbose = False)\n",
    "\n",
    "print(\"For Cluster = 3\")\n",
    "x = create_model('ap', num_clusters = 3)\n",
    "\n",
    "print(\"For Cluster = 4\")\n",
    "x = create_model('ap', num_clusters = 4)\n",
    "\n",
    "print(\"For Cluster = 5\")\n",
    "x = create_model('ap', num_clusters = 5)\n",
    "\n",
    "print(\"For Cluster = 6\")\n",
    "x = create_model('ap', num_clusters = 6)"
   ]
  },
  {
   "cell_type": "code",
   "execution_count": null,
   "id": "7d2714f4",
   "metadata": {},
   "outputs": [],
   "source": [
    "setup(data= df, pca=True, pca_method ='linear', verbose =False)\n",
    "x=create_model('ap')\n",
    "plot_model(x,plot='tsne')"
   ]
  },
  {
   "cell_type": "code",
   "execution_count": null,
   "id": "82886191",
   "metadata": {},
   "outputs": [],
   "source": [
    "setup(data= df, pca=True, pca_method ='linear', verbose =False)\n",
    "\n",
    "print(\"For Cluster = 3\")\n",
    "x = create_model('ap', num_clusters = 3)\n",
    "\n",
    "print(\"For Cluster = 4\")\n",
    "x = create_model('ap', num_clusters = 4)\n",
    "\n",
    "print(\"For Cluster = 5\")\n",
    "x = create_model('ap', num_clusters = 5)\n",
    "\n",
    "print(\"For Cluster = 6\")\n",
    "x = create_model('ap', num_clusters = 6)"
   ]
  },
  {
   "cell_type": "code",
   "execution_count": null,
   "id": "afc98794",
   "metadata": {},
   "outputs": [],
   "source": [
    "setup(data = df, transformation = True, normalize = True,\n",
    "      normalize_method = 'zscore', transformation_method = 'yeo-johnson', verbose=False)\n",
    "x = create_model('ap')\n",
    "plot_model(x,plot='tsne')"
   ]
  },
  {
   "cell_type": "code",
   "execution_count": null,
   "id": "273419e9",
   "metadata": {},
   "outputs": [],
   "source": [
    "setup(data = df, transformation = True, normalize = True,\n",
    "      normalize_method = 'zscore', transformation_method = 'yeo-johnson', verbose=False)\n",
    "\n",
    "print(\"For Cluster = 3\")\n",
    "x = create_model('ap', num_clusters = 3)\n",
    "\n",
    "print(\"For Cluster = 4\")\n",
    "x = create_model('ap', num_clusters = 4)\n",
    "\n",
    "print(\"For Cluster = 5\")\n",
    "x = create_model('ap', num_clusters = 5)\n",
    "\n",
    "print(\"For Cluster = 6\")\n",
    "x = create_model('ap', num_clusters = 6)\n"
   ]
  },
  {
   "cell_type": "code",
   "execution_count": null,
   "id": "aadf47e6",
   "metadata": {},
   "outputs": [],
   "source": [
    "setup(data = df, transformation = True, normalize = True, pca = True,\n",
    "      normalize_method = 'zscore', transformation_method = 'yeo-johnson',\n",
    "      pca_method = 'linear', verbose=False)\n",
    "x = create_model('ap')\n",
    "plot_model(x,plot='tsne')"
   ]
  },
  {
   "cell_type": "code",
   "execution_count": null,
   "id": "3df6fc5c",
   "metadata": {},
   "outputs": [],
   "source": [
    "setup(data = df, transformation = True, normalize = True, pca = True,\n",
    "      normalize_method = 'zscore',\n",
    "      transformation_method = 'yeo-johnson',\n",
    "      pca_method = 'linear', verbose=False)\n",
    "\n",
    "print(\"For Cluster = 3\")\n",
    "x = create_model('ap', num_clusters = 3)\n",
    "\n",
    "print(\"For Cluster = 4\")\n",
    "x = create_model('ap', num_clusters = 4)\n",
    "\n",
    "print(\"For Cluster = 5\")\n",
    "x = create_model('ap', num_clusters = 5)\n",
    "\n",
    "print(\"For Cluster = 6\")\n",
    "x = create_model('ap', num_clusters = 6)"
   ]
  },
  {
   "cell_type": "markdown",
   "id": "87ef0f1f",
   "metadata": {},
   "source": [
    "# heirarchical clustering"
   ]
  },
  {
   "cell_type": "code",
   "execution_count": null,
   "id": "c1ae50a9",
   "metadata": {},
   "outputs": [],
   "source": [
    "setup(data=df,verbose=False)\n",
    "x=create_model('hclust')"
   ]
  },
  {
   "cell_type": "code",
   "execution_count": null,
   "id": "cfe74bd2",
   "metadata": {},
   "outputs": [],
   "source": [
    "hcmodel = create_model('hclust', num_clusters=3)\n",
    "hcmodelprediction = assign_model(hcmodel)\n",
    "hcmodelprediction"
   ]
  },
  {
   "cell_type": "code",
   "execution_count": null,
   "id": "00785c9e",
   "metadata": {},
   "outputs": [],
   "source": [
    "evaluate_model(hcmodel)\n",
    "plot_model(apmodel,plot='cluster')"
   ]
  },
  {
   "cell_type": "code",
   "execution_count": null,
   "id": "e3cbfef6",
   "metadata": {},
   "outputs": [],
   "source": [
    "plot_model(hcmodel,plot='tsne')\n",
    "plot_model(hcmodel,plot='elbow')\n",
    "plot_model(hcmodel,plot='distribution')"
   ]
  },
  {
   "cell_type": "code",
   "execution_count": null,
   "id": "be0ab040",
   "metadata": {},
   "outputs": [],
   "source": [
    "setup(data = df, verbose=False)\n",
    "\n",
    "print(\"For Cluster = 3\")\n",
    "x = create_model('hclust', num_clusters = 3)\n",
    "\n",
    "print(\"For Cluster = 4\")\n",
    "x = create_model('hclust', num_clusters = 4)\n",
    "\n",
    "print(\"For Cluster = 5\")\n",
    "x = create_model('hclust', num_clusters = 5)\n",
    "\n",
    "print(\"For Cluster = 6\")\n",
    "x = create_model('hclust', num_clusters = 6)\n"
   ]
  },
  {
   "cell_type": "code",
   "execution_count": null,
   "id": "72d15377",
   "metadata": {},
   "outputs": [],
   "source": [
    "setup(data=df,normalize=True, normalize_method = 'zscore' , verbose = False)\n",
    "x=create_model('hclust')\n",
    "plot_model(x,plot='elbow')\n",
    "plot_model(x,plot='tsne')"
   ]
  },
  {
   "cell_type": "code",
   "execution_count": null,
   "id": "49c577e5",
   "metadata": {},
   "outputs": [],
   "source": [
    "setup(data=df,normalize=True, normalize_method = 'zscore' , verbose = False)\n",
    "\n",
    "print(\"For Cluster = 3\")\n",
    "x = create_model('hclust', num_clusters = 3)\n",
    "\n",
    "print(\"For Cluster = 4\")\n",
    "x = create_model('hclust', num_clusters = 4)\n",
    "\n",
    "print(\"For Cluster = 5\")\n",
    "x = create_model('hclust', num_clusters = 5)\n",
    "\n",
    "print(\"For Cluster = 6\")\n",
    "x = create_model('hclust', num_clusters = 6)"
   ]
  },
  {
   "cell_type": "code",
   "execution_count": null,
   "id": "beccb08e",
   "metadata": {},
   "outputs": [],
   "source": [
    "setup(data =df, transformation = True, transformation_method = 'yeo-johnson', verbose=False)\n",
    "x = create_model('hclust')\n",
    "plot_model(x, plot = 'elbow')\n",
    "plot_model(x,plot='tsne')"
   ]
  },
  {
   "cell_type": "code",
   "execution_count": null,
   "id": "1722540e",
   "metadata": {},
   "outputs": [],
   "source": [
    "setup(data=df,transformation=True,transformation_method = 'yeo-johnson',verbose = False)\n",
    "\n",
    "print(\"For Cluster = 3\")\n",
    "x = create_model('hclust', num_clusters = 3)\n",
    "\n",
    "print(\"For Cluster = 4\")\n",
    "x = create_model('hclust', num_clusters = 4)\n",
    "\n",
    "print(\"For Cluster = 5\")\n",
    "x = create_model('hclust', num_clusters = 5)\n",
    "\n",
    "print(\"For Cluster = 6\")\n",
    "x = create_model('hclust', num_clusters = 6)"
   ]
  },
  {
   "cell_type": "code",
   "execution_count": null,
   "id": "334d8d33",
   "metadata": {},
   "outputs": [],
   "source": [
    "setup(data= df, pca=True, pca_method ='linear', verbose =False)\n",
    "x=create_model('hclust')\n",
    "plot_model(x,plot='elbow')\n",
    "plot_model(x,plot='tsne')"
   ]
  },
  {
   "cell_type": "code",
   "execution_count": null,
   "id": "9bb762e2",
   "metadata": {},
   "outputs": [],
   "source": [
    "setup(data= df, pca=True, pca_method ='linear', verbose =False)\n",
    "\n",
    "print(\"For Cluster = 3\")\n",
    "x = create_model('hclust', num_clusters = 3)\n",
    "\n",
    "print(\"For Cluster = 4\")\n",
    "x = create_model('hclust', num_clusters = 4)\n",
    "\n",
    "print(\"For Cluster = 5\")\n",
    "x = create_model('hclust', num_clusters = 5)\n",
    "\n",
    "print(\"For Cluster = 6\")\n",
    "x = create_model('hclust', num_clusters = 6)"
   ]
  },
  {
   "cell_type": "code",
   "execution_count": null,
   "id": "8ea8e8f2",
   "metadata": {},
   "outputs": [],
   "source": [
    "setup(data = df, transformation = True, normalize = True,\n",
    "      normalize_method = 'zscore', transformation_method = 'yeo-johnson', verbose=False)\n",
    "x = create_model('hclust')\n",
    "plot_model(x, plot = 'elbow')\n",
    "plot_model(x,plot='tsne')"
   ]
  },
  {
   "cell_type": "code",
   "execution_count": null,
   "id": "946215f5",
   "metadata": {},
   "outputs": [],
   "source": [
    "setup(data = df, transformation = True, normalize = True,\n",
    "      normalize_method = 'zscore', transformation_method = 'yeo-johnson', verbose=False)\n",
    "\n",
    "print(\"For Cluster = 3\")\n",
    "x = create_model('hclust', num_clusters = 3)\n",
    "\n",
    "print(\"For Cluster = 4\")\n",
    "x = create_model('hclust', num_clusters = 4)\n",
    "\n",
    "print(\"For Cluster = 5\")\n",
    "x = create_model('hclust', num_clusters = 5)\n",
    "\n",
    "print(\"For Cluster = 6\")\n",
    "x = create_model('hclust', num_clusters = 6)\n"
   ]
  },
  {
   "cell_type": "code",
   "execution_count": null,
   "id": "6a9dc3a5",
   "metadata": {},
   "outputs": [],
   "source": [
    "setup(data = df, transformation = True, normalize = True, pca = True,\n",
    "      normalize_method = 'zscore', transformation_method = 'yeo-johnson',\n",
    "      pca_method = 'linear', verbose=False)\n",
    "x = create_model('hclust')\n",
    "plot_model(x, plot = 'elbow')\n",
    "plot_model(x,plot='tsne')"
   ]
  },
  {
   "cell_type": "code",
   "execution_count": null,
   "id": "2597c1a2",
   "metadata": {},
   "outputs": [],
   "source": [
    "setup(data = df, transformation = True, normalize = True, pca = True,\n",
    "      normalize_method = 'zscore',\n",
    "      transformation_method = 'yeo-johnson',\n",
    "      pca_method = 'linear', verbose=False)\n",
    "\n",
    "print(\"For Cluster = 3\")\n",
    "x = create_model('hclust', num_clusters = 3)\n",
    "\n",
    "print(\"For Cluster = 4\")\n",
    "x = create_model('hclust', num_clusters = 4)\n",
    "\n",
    "print(\"For Cluster = 5\")\n",
    "x = create_model('hclust', num_clusters = 5)\n",
    "\n",
    "print(\"For Cluster = 6\")\n",
    "x = create_model('hclust', num_clusters = 6)"
   ]
  },
  {
   "cell_type": "markdown",
   "id": "02e3782b",
   "metadata": {},
   "source": [
    "# k-mean shift clustering"
   ]
  },
  {
   "cell_type": "code",
   "execution_count": null,
   "id": "f941cc95",
   "metadata": {},
   "outputs": [],
   "source": [
    "setup(data=df,verbose=False)\n",
    "x=create_model('meanshift')"
   ]
  },
  {
   "cell_type": "code",
   "execution_count": null,
   "id": "a4abe935",
   "metadata": {},
   "outputs": [],
   "source": [
    "msmodel = create_model('meanshift', num_clusters=3)\n",
    "msmodelprediction = assign_model(msmodel)\n",
    "msmodelprediction"
   ]
  },
  {
   "cell_type": "code",
   "execution_count": null,
   "id": "22212716",
   "metadata": {},
   "outputs": [],
   "source": [
    "evaluate_model(msmodel)\n",
    "plot_model(msmodel,plot='cluster')"
   ]
  },
  {
   "cell_type": "code",
   "execution_count": null,
   "id": "a3de2797",
   "metadata": {},
   "outputs": [],
   "source": [
    "plot_model(msmodel,plot='tsne')\n",
    "plot_model(msmodel,plot='distribution')\n"
   ]
  },
  {
   "cell_type": "code",
   "execution_count": null,
   "id": "13443ce5",
   "metadata": {},
   "outputs": [],
   "source": [
    "setup(data=df,verbose=False)\n",
    "\n",
    "print(\"For Cluster = 3\")\n",
    "x=create_model('meanshift',num_clusters = 3)\n",
    "\n",
    "print(\"For Cluster = 4\")\n",
    "x=create_model('meanshift',num_clusters = 4)\n",
    "\n",
    "print(\"For Cluster = 5\")\n",
    "x=create_model('meanshift',num_clusters = 5)\n",
    "\n",
    "print(\"For Cluster = 6\")\n",
    "x=create_model('meanshift',num_clusters = 6)"
   ]
  },
  {
   "cell_type": "code",
   "execution_count": null,
   "id": "35a27ad2",
   "metadata": {},
   "outputs": [],
   "source": [
    "setup(data=df,normalize=True, normalize_method = 'zscore' , verbose = False)\n",
    "x=create_model('meanshift')\n",
    "plot_model(x,plot='tsne')"
   ]
  },
  {
   "cell_type": "code",
   "execution_count": null,
   "id": "157127c6",
   "metadata": {},
   "outputs": [],
   "source": [
    "setup(data=df,normalize=True, normalize_method = 'zscore' , verbose = False)\n",
    "\n",
    "print(\"For Cluster = 3\")\n",
    "x = create_model('meanshift', num_clusters = 3)\n",
    "\n",
    "print(\"For Cluster = 4\")\n",
    "x = create_model('meanshift', num_clusters = 4)\n",
    "\n",
    "print(\"For Cluster = 5\")\n",
    "x = create_model('meanshift', num_clusters = 5)\n",
    "\n",
    "print(\"For Cluster = 6\")\n",
    "x = create_model('meanshift', num_clusters = 6)"
   ]
  },
  {
   "cell_type": "code",
   "execution_count": null,
   "id": "81bdaa37",
   "metadata": {},
   "outputs": [],
   "source": [
    "setup(data =df, transformation = True, transformation_method = 'yeo-johnson', verbose=False)\n",
    "x = create_model('meanshift')\n",
    "plot_model(x,plot='tsne')"
   ]
  },
  {
   "cell_type": "code",
   "execution_count": null,
   "id": "76900ac3",
   "metadata": {},
   "outputs": [],
   "source": [
    "setup(data=df,transformation=True,transformation_method = 'yeo-johnson',verbose = False)\n",
    "\n",
    "print(\"For Cluster = 3\")\n",
    "x = create_model('meanshift', num_clusters = 3)\n",
    "\n",
    "print(\"For Cluster = 4\")\n",
    "x = create_model('meanshift', num_clusters = 4)\n",
    "\n",
    "print(\"For Cluster = 5\")\n",
    "x = create_model('meanshift', num_clusters = 5)\n",
    "\n",
    "print(\"For Cluster = 6\")\n",
    "x = create_model('meanshift', num_clusters = 6)"
   ]
  },
  {
   "cell_type": "code",
   "execution_count": null,
   "id": "d4699f0e",
   "metadata": {},
   "outputs": [],
   "source": [
    "setup(data= df, pca=True, pca_method ='linear', verbose =False)\n",
    "x=create_model('meanshift')\n",
    "plot_model(x,plot='tsne')"
   ]
  },
  {
   "cell_type": "code",
   "execution_count": null,
   "id": "683cbede",
   "metadata": {},
   "outputs": [],
   "source": [
    "setup(data= df, pca=True, pca_method ='linear', verbose =False)\n",
    "\n",
    "print(\"For Cluster = 3\")\n",
    "x = create_model('meanshift', num_clusters = 3)\n",
    "\n",
    "print(\"For Cluster = 4\")\n",
    "x = create_model('meanshift', num_clusters = 4)\n",
    "\n",
    "print(\"For Cluster = 5\")\n",
    "x = create_model('meanshift', num_clusters = 5)\n",
    "\n",
    "print(\"For Cluster = 6\")\n",
    "x = create_model('meanshift', num_clusters = 6)"
   ]
  },
  {
   "cell_type": "code",
   "execution_count": null,
   "id": "fae1bfaf",
   "metadata": {},
   "outputs": [],
   "source": [
    "setup(data = df, transformation = True, normalize = True,\n",
    "      normalize_method = 'zscore', transformation_method = 'yeo-johnson', verbose=False)\n",
    "x = create_model('meanshift')\n",
    "plot_model(x,plot='tsne')"
   ]
  },
  {
   "cell_type": "code",
   "execution_count": null,
   "id": "296efac8",
   "metadata": {},
   "outputs": [],
   "source": [
    "setup(data = df, transformation = True, normalize = True,\n",
    "      normalize_method = 'zscore', transformation_method = 'yeo-johnson', verbose=False)\n",
    "\n",
    "print(\"For Cluster = 3\")\n",
    "x = create_model('meanshift', num_clusters = 3)\n",
    "\n",
    "print(\"For Cluster = 4\")\n",
    "x = create_model('meanshift', num_clusters = 4)\n",
    "\n",
    "print(\"For Cluster = 5\")\n",
    "x = create_model('meanshift', num_clusters = 5)\n",
    "\n",
    "print(\"For Cluster = 6\")\n",
    "x = create_model('meanshift', num_clusters = 6)\n"
   ]
  },
  {
   "cell_type": "code",
   "execution_count": null,
   "id": "2585ccfb",
   "metadata": {},
   "outputs": [],
   "source": [
    "setup(data = df, transformation = True, normalize = True, pca = True,\n",
    "      normalize_method = 'zscore', transformation_method = 'yeo-johnson',\n",
    "      pca_method = 'linear', verbose=False)\n",
    "x = create_model('meanshift')\n",
    "plot_model(x,plot='tsne')"
   ]
  },
  {
   "cell_type": "code",
   "execution_count": null,
   "id": "fe702ea2",
   "metadata": {},
   "outputs": [],
   "source": [
    "setup(data = df, transformation = True, normalize = True, pca = True,\n",
    "      normalize_method = 'zscore',\n",
    "      transformation_method = 'yeo-johnson',\n",
    "      pca_method = 'linear', verbose=False)\n",
    "\n",
    "print(\"For Cluster = 3\")\n",
    "x = create_model('meanshift', num_clusters = 3)\n",
    "\n",
    "print(\"For Cluster = 4\")\n",
    "x = create_model('meanshift', num_clusters = 4)\n",
    "\n",
    "print(\"For Cluster = 5\")\n",
    "x = create_model('meanshift', num_clusters = 5)\n",
    "\n",
    "print(\"For Cluster = 6\")\n",
    "x = create_model('meanshift', num_clusters = 6)"
   ]
  },
  {
   "cell_type": "markdown",
   "id": "0a765317",
   "metadata": {},
   "source": [
    "# Spectral Clustering"
   ]
  },
  {
   "cell_type": "code",
   "execution_count": null,
   "id": "b8c9cc21",
   "metadata": {},
   "outputs": [],
   "source": [
    "setup(data=df,verbose=False)\n",
    "x=create_model('sc')"
   ]
  },
  {
   "cell_type": "code",
   "execution_count": null,
   "id": "dc2fb70e",
   "metadata": {},
   "outputs": [],
   "source": [
    "scmodel= create_model('sc',num_clusters=4)\n",
    "scmodelprediction= assign_model(scmodel)\n",
    "scmodelprediction"
   ]
  },
  {
   "cell_type": "code",
   "execution_count": null,
   "id": "db65dcbc",
   "metadata": {},
   "outputs": [],
   "source": [
    "evaluate_model(scmodel)"
   ]
  },
  {
   "cell_type": "code",
   "execution_count": null,
   "id": "69806ad4",
   "metadata": {},
   "outputs": [],
   "source": [
    "plot_model(scmodel,plot='cluster')\n",
    "plot_model(scmodel,plot='tsne')\n",
    "plot_model(scmodel,plot='elbow')"
   ]
  },
  {
   "cell_type": "code",
   "execution_count": null,
   "id": "79072de1",
   "metadata": {},
   "outputs": [],
   "source": [
    "setup(data = df, verbose=False)\n",
    "\n",
    "print(\"For Cluster = 3\")\n",
    "x = create_model('sc', num_clusters = 3)\n",
    "\n",
    "print(\"For Cluster = 4\")\n",
    "x = create_model('sc', num_clusters = 4)\n",
    "\n",
    "print(\"For Cluster = 5\")\n",
    "x = create_model('sc', num_clusters = 5)\n",
    "\n",
    "print(\"For Cluster = 6\")\n",
    "x = create_model('sc', num_clusters = 6)\n"
   ]
  },
  {
   "cell_type": "code",
   "execution_count": null,
   "id": "41a81840",
   "metadata": {},
   "outputs": [],
   "source": [
    "setup(data=df,normalize=True, normalize_method = 'zscore' , verbose = False)\n",
    "x=create_model('sc')\n",
    "plot_model(x,plot='elbow')\n",
    "plot_model(x,plot='tsne')"
   ]
  },
  {
   "cell_type": "code",
   "execution_count": null,
   "id": "ccf0d2cf",
   "metadata": {},
   "outputs": [],
   "source": [
    "setup(data=df,normalize=True, normalize_method = 'zscore' , verbose = False)\n",
    "\n",
    "print(\"For Cluster = 3\")\n",
    "x = create_model('sc', num_clusters = 3)\n",
    "\n",
    "print(\"For Cluster = 4\")\n",
    "x = create_model('sc', num_clusters = 4)\n",
    "\n",
    "print(\"For Cluster = 5\")\n",
    "x = create_model('sc', num_clusters = 5)\n",
    "\n",
    "print(\"For Cluster = 6\")\n",
    "x = create_model('sc', num_clusters = 6)"
   ]
  },
  {
   "cell_type": "code",
   "execution_count": null,
   "id": "88f0766a",
   "metadata": {},
   "outputs": [],
   "source": [
    "setup(data =df, transformation = True, transformation_method = 'yeo-johnson', verbose=False)\n",
    "x = create_model('sc')\n",
    "plot_model(x, plot = 'elbow')\n",
    "plot_model(x,plot='tsne')"
   ]
  },
  {
   "cell_type": "code",
   "execution_count": null,
   "id": "033b0561",
   "metadata": {},
   "outputs": [],
   "source": [
    "setup(data=df,transformation=True,transformation_method = 'yeo-johnson',verbose = False)\n",
    "\n",
    "print(\"For Cluster = 3\")\n",
    "x = create_model('sc', num_clusters = 3)\n",
    "\n",
    "print(\"For Cluster = 4\")\n",
    "x = create_model('sc', num_clusters = 4)\n",
    "\n",
    "print(\"For Cluster = 5\")\n",
    "x = create_model('sc', num_clusters = 5)\n",
    "\n",
    "print(\"For Cluster = 6\")\n",
    "x = create_model('sc', num_clusters = 6)"
   ]
  },
  {
   "cell_type": "code",
   "execution_count": null,
   "id": "d6f04910",
   "metadata": {},
   "outputs": [],
   "source": [
    "setup(data= df, pca=True, pca_method ='linear', verbose =False)\n",
    "x=create_model('sc')\n",
    "plot_model(x,plot='elbow')\n",
    "plot_model(x,plot='tsne')"
   ]
  },
  {
   "cell_type": "code",
   "execution_count": null,
   "id": "4bbb9a6b",
   "metadata": {},
   "outputs": [],
   "source": [
    "setup(data= df, pca=True, pca_method ='linear', verbose =False)\n",
    "\n",
    "print(\"For Cluster = 3\")\n",
    "x = create_model('sc', num_clusters = 3)\n",
    "\n",
    "print(\"For Cluster = 4\")\n",
    "x = create_model('sc', num_clusters = 4)\n",
    "\n",
    "print(\"For Cluster = 5\")\n",
    "x = create_model('sc', num_clusters = 5)\n",
    "\n",
    "print(\"For Cluster = 6\")\n",
    "x = create_model('sc', num_clusters = 6)"
   ]
  },
  {
   "cell_type": "code",
   "execution_count": null,
   "id": "7a197fe3",
   "metadata": {},
   "outputs": [],
   "source": [
    "setup(data = df, transformation = True, normalize = True,\n",
    "      normalize_method = 'zscore', transformation_method = 'yeo-johnson', verbose=False)\n",
    "x = create_model('sc')\n",
    "plot_model(x,plot='tsne')"
   ]
  },
  {
   "cell_type": "code",
   "execution_count": null,
   "id": "60a7413f",
   "metadata": {},
   "outputs": [],
   "source": [
    "setup(data = df, transformation = True, normalize = True,\n",
    "      normalize_method = 'zscore', transformation_method = 'yeo-johnson', verbose=False)\n",
    "\n",
    "print(\"For Cluster = 3\")\n",
    "x = create_model('sc', num_clusters = 3)\n",
    "\n",
    "print(\"For Cluster = 4\")\n",
    "x = create_model('sc', num_clusters = 4)\n",
    "\n",
    "print(\"For Cluster = 5\")\n",
    "x = create_model('sc', num_clusters = 5)\n",
    "\n",
    "print(\"For Cluster = 6\")\n",
    "x = create_model('sc', num_clusters = 6)\n"
   ]
  },
  {
   "cell_type": "code",
   "execution_count": null,
   "id": "0d15b3f9",
   "metadata": {},
   "outputs": [],
   "source": [
    "setup(data = df, transformation = True, normalize = True, pca = True,\n",
    "      normalize_method = 'zscore', transformation_method = 'yeo-johnson',\n",
    "      pca_method = 'linear', verbose=False)\n",
    "x = create_model('sc')\n",
    "plot_model(x, plot = 'elbow')\n",
    "plot_model(x,plot='tsne')"
   ]
  },
  {
   "cell_type": "code",
   "execution_count": null,
   "id": "20528d62",
   "metadata": {},
   "outputs": [],
   "source": [
    "setup(data = df, transformation = True, normalize = True, pca = True,\n",
    "      normalize_method = 'zscore',\n",
    "      transformation_method = 'yeo-johnson',\n",
    "      pca_method = 'linear', verbose=False)\n",
    "\n",
    "print(\"For Cluster = 3\")\n",
    "x = create_model('sc', num_clusters = 3)\n",
    "\n",
    "print(\"For Cluster = 4\")\n",
    "x = create_model('sc', num_clusters = 4)\n",
    "\n",
    "print(\"For Cluster = 5\")\n",
    "x = create_model('sc', num_clusters = 5)\n",
    "\n",
    "print(\"For Cluster = 6\")\n",
    "x = create_model('sc', num_clusters = 6)"
   ]
  },
  {
   "cell_type": "markdown",
   "id": "792d125a",
   "metadata": {},
   "source": [
    "# Density-Based Spatial Clustering"
   ]
  },
  {
   "cell_type": "code",
   "execution_count": null,
   "id": "411ce27c",
   "metadata": {},
   "outputs": [],
   "source": [
    "setup(data=df,verbose=False)\n",
    "x=create_model('dbscan')"
   ]
  },
  {
   "cell_type": "code",
   "execution_count": null,
   "id": "6fb0875f",
   "metadata": {},
   "outputs": [],
   "source": [
    "dbmodel = create_model('dbscan', num_clusters=3)\n",
    "dbmodelprediction = assign_model(dbmodel)\n",
    "dbmodelprediction"
   ]
  },
  {
   "cell_type": "code",
   "execution_count": null,
   "id": "9b1f329f",
   "metadata": {},
   "outputs": [],
   "source": [
    "evaluate_model(dbmodel)"
   ]
  },
  {
   "cell_type": "code",
   "execution_count": null,
   "id": "750677ba",
   "metadata": {},
   "outputs": [],
   "source": [
    "plot_model(dbmodel,plot='cluster')\n",
    "plot_model(dbmodel,plot='tsne')\n",
    "plot_model(dbmodel,plot='distribution')"
   ]
  },
  {
   "cell_type": "code",
   "execution_count": null,
   "id": "782a84a5",
   "metadata": {},
   "outputs": [],
   "source": [
    "setup(data = df, verbose=False)\n",
    "\n",
    "print(\"For Cluster = 3\")\n",
    "x = create_model('dbscan', num_clusters = 3)\n",
    "\n",
    "print(\"For Cluster = 4\")\n",
    "x = create_model('dbscan', num_clusters = 4)\n",
    "\n",
    "print(\"For Cluster = 5\")\n",
    "x = create_model('dbscan', num_clusters = 5)\n",
    "\n",
    "print(\"For Cluster = 6\")\n",
    "x = create_model('dbscan', num_clusters = 6)\n"
   ]
  },
  {
   "cell_type": "code",
   "execution_count": null,
   "id": "26c056b4",
   "metadata": {},
   "outputs": [],
   "source": [
    "setup(data=df,normalize=True, normalize_method = 'zscore' , verbose = False)\n",
    "x=create_model('dbscan')\n",
    "plot_model(x,plot='tsne')"
   ]
  },
  {
   "cell_type": "code",
   "execution_count": null,
   "id": "1b96a3ec",
   "metadata": {},
   "outputs": [],
   "source": [
    "setup(data=df,normalize=True, normalize_method = 'zscore' , verbose = False)\n",
    "\n",
    "print(\"For Cluster = 3\")\n",
    "x = create_model('dbscan', num_clusters = 3)\n",
    "\n",
    "print(\"For Cluster = 4\")\n",
    "x = create_model('dbscan', num_clusters = 4)\n",
    "\n",
    "print(\"For Cluster = 5\")\n",
    "x = create_model('dbscan', num_clusters = 5)\n",
    "\n",
    "print(\"For Cluster = 6\")\n",
    "x = create_model('dbscan', num_clusters = 6)"
   ]
  },
  {
   "cell_type": "code",
   "execution_count": null,
   "id": "6e1f31d5",
   "metadata": {},
   "outputs": [],
   "source": [
    "setup(data =df, transformation = True, transformation_method = 'yeo-johnson', verbose=False)\n",
    "x = create_model('dbscan')\n",
    "plot_model(x,plot='tsne')"
   ]
  },
  {
   "cell_type": "code",
   "execution_count": null,
   "id": "b25f1312",
   "metadata": {},
   "outputs": [],
   "source": [
    "setup(data=df,transformation=True,transformation_method = 'yeo-johnson',verbose = False)\n",
    "\n",
    "print(\"For Cluster = 3\")\n",
    "x = create_model('dbscan', num_clusters = 3)\n",
    "\n",
    "print(\"For Cluster = 4\")\n",
    "x = create_model('dbscan', num_clusters = 4)\n",
    "\n",
    "print(\"For Cluster = 5\")\n",
    "x = create_model('dbscan', num_clusters = 5)\n",
    "\n",
    "print(\"For Cluster = 6\")\n",
    "x = create_model('dbscan', num_clusters = 6)"
   ]
  },
  {
   "cell_type": "code",
   "execution_count": null,
   "id": "035cfede",
   "metadata": {},
   "outputs": [],
   "source": [
    "setup(data= df, pca=True, pca_method ='linear', verbose =False)\n",
    "x=create_model('dbscan')\n",
    "plot_model(x,plot='tsne')"
   ]
  },
  {
   "cell_type": "code",
   "execution_count": null,
   "id": "b3173955",
   "metadata": {},
   "outputs": [],
   "source": [
    "setup(data= df, pca=True, pca_method ='linear', verbose =False)\n",
    "\n",
    "print(\"For Cluster = 3\")\n",
    "x = create_model('dbscan', num_clusters = 3)\n",
    "\n",
    "print(\"For Cluster = 4\")\n",
    "x = create_model('dbscan', num_clusters = 4)\n",
    "\n",
    "print(\"For Cluster = 5\")\n",
    "x = create_model('dbscan', num_clusters = 5)\n",
    "\n",
    "print(\"For Cluster = 6\")\n",
    "x = create_model('dbscan', num_clusters = 6)"
   ]
  },
  {
   "cell_type": "code",
   "execution_count": null,
   "id": "cdf5e349",
   "metadata": {},
   "outputs": [],
   "source": [
    "setup(data = df, transformation = True, normalize = True,\n",
    "      normalize_method = 'zscore', transformation_method = 'yeo-johnson', verbose=False)\n",
    "x = create_model('dbscan')\n",
    "plot_model(x,plot='tsne')"
   ]
  },
  {
   "cell_type": "code",
   "execution_count": null,
   "id": "bc2e530a",
   "metadata": {},
   "outputs": [],
   "source": [
    "setup(data = df, transformation = True, normalize = True,\n",
    "      normalize_method = 'zscore', transformation_method = 'yeo-johnson', verbose=False)\n",
    "\n",
    "print(\"For Cluster = 3\")\n",
    "x = create_model('dbscan', num_clusters = 3)\n",
    "\n",
    "print(\"For Cluster = 4\")\n",
    "x = create_model('dbscan', num_clusters = 4)\n",
    "\n",
    "print(\"For Cluster = 5\")\n",
    "x = create_model('dbscan', num_clusters = 5)\n",
    "\n",
    "print(\"For Cluster = 6\")\n",
    "x = create_model('dbscan', num_clusters = 6)\n"
   ]
  },
  {
   "cell_type": "code",
   "execution_count": null,
   "id": "2e716968",
   "metadata": {},
   "outputs": [],
   "source": [
    "setup(data = df, transformation = True, normalize = True, pca = True,\n",
    "      normalize_method = 'zscore', transformation_method = 'yeo-johnson',\n",
    "      pca_method = 'linear', verbose=False)\n",
    "x = create_model('dbscan')\n",
    "plot_model(x,plot='tsne')"
   ]
  },
  {
   "cell_type": "code",
   "execution_count": null,
   "id": "8168f036",
   "metadata": {},
   "outputs": [],
   "source": [
    "setup(data = df, transformation = True, normalize = True, pca = True,\n",
    "      normalize_method = 'zscore',\n",
    "      transformation_method = 'yeo-johnson',\n",
    "      pca_method = 'linear', verbose=False)\n",
    "\n",
    "print(\"For Cluster = 3\")\n",
    "x = create_model('dbscan', num_clusters = 3)\n",
    "\n",
    "print(\"For Cluster = 4\")\n",
    "x = create_model('dbscan', num_clusters = 4)\n",
    "\n",
    "print(\"For Cluster = 5\")\n",
    "x = create_model('dbscan', num_clusters = 5)\n",
    "\n",
    "print(\"For Cluster = 6\")\n",
    "x = create_model('dbscan', num_clusters = 6)"
   ]
  },
  {
   "cell_type": "markdown",
   "id": "c0b04fdd",
   "metadata": {},
   "source": [
    "# OPTICS Clustering "
   ]
  },
  {
   "cell_type": "code",
   "execution_count": null,
   "id": "b269017c",
   "metadata": {},
   "outputs": [],
   "source": [
    "setup(data=df,verbose=False)\n",
    "x=create_model('optics')"
   ]
  },
  {
   "cell_type": "code",
   "execution_count": null,
   "id": "2bf50390",
   "metadata": {},
   "outputs": [],
   "source": [
    "opmodel = create_model('optics', num_clusters=3)\n",
    "opmodelprediction = assign_model(opmodel)\n",
    "opmodelprediction"
   ]
  },
  {
   "cell_type": "code",
   "execution_count": null,
   "id": "3a1c3ec5",
   "metadata": {},
   "outputs": [],
   "source": [
    "evaluate_model(opmodel)"
   ]
  },
  {
   "cell_type": "code",
   "execution_count": null,
   "id": "48c05724",
   "metadata": {},
   "outputs": [],
   "source": [
    "plot_model(opmodel,plot='cluster')\n",
    "plot_model(opmodel,plot='tsne')"
   ]
  },
  {
   "cell_type": "code",
   "execution_count": null,
   "id": "3a68d982",
   "metadata": {},
   "outputs": [],
   "source": [
    "setup(data = df, verbose=False)\n",
    "\n",
    "print(\"For Cluster = 3\")\n",
    "x = create_model('optics', num_clusters = 3)\n",
    "\n",
    "print(\"For Cluster = 4\")\n",
    "x = create_model('optics', num_clusters = 4)\n",
    "\n",
    "print(\"For Cluster = 5\")\n",
    "x = create_model('optics', num_clusters = 5)\n",
    "\n",
    "print(\"For Cluster = 6\")\n",
    "x = create_model('optics', num_clusters = 6)\n"
   ]
  },
  {
   "cell_type": "code",
   "execution_count": null,
   "id": "23127f0b",
   "metadata": {},
   "outputs": [],
   "source": [
    "plot_model(opmodel,plot='distribution')"
   ]
  },
  {
   "cell_type": "code",
   "execution_count": null,
   "id": "9153f7c0",
   "metadata": {},
   "outputs": [],
   "source": [
    "setup(data=df,normalize=True, normalize_method = 'zscore' , verbose = False)\n",
    "x=create_model('optics')\n",
    "plot_model(x,plot='tsne')"
   ]
  },
  {
   "cell_type": "code",
   "execution_count": null,
   "id": "f30d367b",
   "metadata": {},
   "outputs": [],
   "source": [
    "setup(data=df,normalize=True, normalize_method = 'zscore' , verbose = False)\n",
    "\n",
    "print(\"For Cluster = 3\")\n",
    "x = create_model('optics', num_clusters = 3)\n",
    "\n",
    "print(\"For Cluster = 4\")\n",
    "x = create_model('optics', num_clusters = 4)\n",
    "\n",
    "print(\"For Cluster = 5\")\n",
    "x = create_model('optics', num_clusters = 5)\n",
    "\n",
    "print(\"For Cluster = 6\")\n",
    "x = create_model('optics', num_clusters = 6)"
   ]
  },
  {
   "cell_type": "code",
   "execution_count": null,
   "id": "28f46dc5",
   "metadata": {},
   "outputs": [],
   "source": [
    "setup(data =df, transformation = True, transformation_method = 'yeo-johnson', verbose=False)\n",
    "x = create_model('optics')\n",
    "plot_model(x,plot='tsne')"
   ]
  },
  {
   "cell_type": "code",
   "execution_count": null,
   "id": "f0b7a80f",
   "metadata": {},
   "outputs": [],
   "source": [
    "setup(data=df,transformation=True,transformation_method = 'yeo-johnson',verbose = False)\n",
    "\n",
    "print(\"For Cluster = 3\")\n",
    "x = create_model('optics', num_clusters = 3)\n",
    "\n",
    "print(\"For Cluster = 4\")\n",
    "x = create_model('optics', num_clusters = 4)\n",
    "\n",
    "print(\"For Cluster = 5\")\n",
    "x = create_model('optics', num_clusters = 5)\n",
    "\n",
    "print(\"For Cluster = 6\")\n",
    "x = create_model('optics', num_clusters = 6)"
   ]
  },
  {
   "cell_type": "code",
   "execution_count": null,
   "id": "368a05c3",
   "metadata": {},
   "outputs": [],
   "source": [
    "setup(data= df, pca=True, pca_method ='linear', verbose =False)\n",
    "x=create_model('optics')\n",
    "plot_model(x,plot='tsne')"
   ]
  },
  {
   "cell_type": "code",
   "execution_count": null,
   "id": "6ea9ffa6",
   "metadata": {},
   "outputs": [],
   "source": [
    "setup(data= df, pca=True, pca_method ='linear', verbose =False)\n",
    "\n",
    "print(\"For Cluster = 3\")\n",
    "x = create_model('optics', num_clusters = 3)\n",
    "\n",
    "print(\"For Cluster = 4\")\n",
    "x = create_model('optics', num_clusters = 4)\n",
    "\n",
    "print(\"For Cluster = 5\")\n",
    "x = create_model('optics', num_clusters = 5)\n",
    "\n",
    "print(\"For Cluster = 6\")\n",
    "x = create_model('optics', num_clusters = 6)"
   ]
  },
  {
   "cell_type": "code",
   "execution_count": null,
   "id": "faaf8e0e",
   "metadata": {},
   "outputs": [],
   "source": [
    "setup(data = df, transformation = True, normalize = True,\n",
    "      normalize_method = 'zscore', transformation_method = 'yeo-johnson', verbose=False)\n",
    "x = create_model('optics')\n",
    "plot_model(x,plot='tsne')"
   ]
  },
  {
   "cell_type": "code",
   "execution_count": null,
   "id": "f911c7f5",
   "metadata": {},
   "outputs": [],
   "source": [
    "setup(data = df, transformation = True, normalize = True,\n",
    "      normalize_method = 'zscore', transformation_method = 'yeo-johnson', verbose=False)\n",
    "\n",
    "print(\"For Cluster = 3\")\n",
    "x = create_model('optics', num_clusters = 3)\n",
    "\n",
    "print(\"For Cluster = 4\")\n",
    "x = create_model('optics', num_clusters = 4)\n",
    "\n",
    "print(\"For Cluster = 5\")\n",
    "x = create_model('optics', num_clusters = 5)\n",
    "\n",
    "print(\"For Cluster = 6\")\n",
    "x = create_model('optics', num_clusters = 6)\n"
   ]
  },
  {
   "cell_type": "markdown",
   "id": "ad9aac1a",
   "metadata": {},
   "source": [
    "# Birch Clustering"
   ]
  },
  {
   "cell_type": "code",
   "execution_count": null,
   "id": "ed376675",
   "metadata": {},
   "outputs": [],
   "source": [
    "setup(data=df,verbose=False)\n",
    "x=create_model('birch')"
   ]
  },
  {
   "cell_type": "code",
   "execution_count": null,
   "id": "fbccbca2",
   "metadata": {},
   "outputs": [],
   "source": [
    "brmodel = create_model('birch', num_clusters=3)\n",
    "brmodelprediction = assign_model(brmodel)\n",
    "brmodelprediction"
   ]
  },
  {
   "cell_type": "code",
   "execution_count": null,
   "id": "d6894736",
   "metadata": {},
   "outputs": [],
   "source": [
    "evaluate_model(brmodel)"
   ]
  },
  {
   "cell_type": "code",
   "execution_count": null,
   "id": "a2b47d45",
   "metadata": {},
   "outputs": [],
   "source": [
    "plot_model(brmodel,plot='cluster')\n",
    "plot_model(brmodel,plot='tsne')\n",
    "plot_model(brmodel,plot='distribution')"
   ]
  },
  {
   "cell_type": "code",
   "execution_count": null,
   "id": "87a1d5d8",
   "metadata": {},
   "outputs": [],
   "source": [
    "setup(data = df, verbose=False)\n",
    "\n",
    "print(\"For Cluster = 3\")\n",
    "x = create_model('birch', num_clusters = 3)\n",
    "\n",
    "print(\"For Cluster = 4\")\n",
    "x = create_model('birch', num_clusters = 4)\n",
    "\n",
    "print(\"For Cluster = 5\")\n",
    "x = create_model('birch', num_clusters = 5)\n",
    "\n",
    "print(\"For Cluster = 6\")\n",
    "x = create_model('birch', num_clusters = 6)\n"
   ]
  },
  {
   "cell_type": "code",
   "execution_count": null,
   "id": "8db2237c",
   "metadata": {},
   "outputs": [],
   "source": [
    "setup(data=df,normalize=True, normalize_method = 'zscore' , verbose = False)\n",
    "x=create_model('birch')\n",
    "plot_model(x,plot='tsne')"
   ]
  },
  {
   "cell_type": "code",
   "execution_count": null,
   "id": "b390750f",
   "metadata": {},
   "outputs": [],
   "source": [
    "setup(data=df,normalize=True, normalize_method = 'zscore' , verbose = False)\n",
    "\n",
    "print(\"For Cluster = 3\")\n",
    "x = create_model('birch', num_clusters = 3)\n",
    "\n",
    "print(\"For Cluster = 4\")\n",
    "x = create_model('birch', num_clusters = 4)\n",
    "\n",
    "print(\"For Cluster = 5\")\n",
    "x = create_model('birch', num_clusters = 5)\n",
    "\n",
    "print(\"For Cluster = 6\")\n",
    "x = create_model('birch', num_clusters = 6)"
   ]
  },
  {
   "cell_type": "code",
   "execution_count": null,
   "id": "e4e55951",
   "metadata": {},
   "outputs": [],
   "source": [
    "setup(data =df, transformation = True, transformation_method = 'yeo-johnson', verbose=False)\n",
    "x = create_model('birch')\n",
    "plot_model(x,plot='tsne')"
   ]
  },
  {
   "cell_type": "code",
   "execution_count": null,
   "id": "b4458dcc",
   "metadata": {},
   "outputs": [],
   "source": [
    "setup(data=df,transformation=True,transformation_method = 'yeo-johnson',verbose = False)\n",
    "\n",
    "print(\"For Cluster = 3\")\n",
    "x = create_model('birch', num_clusters = 3)\n",
    "\n",
    "print(\"For Cluster = 4\")\n",
    "x = create_model('birch', num_clusters = 4)\n",
    "\n",
    "print(\"For Cluster = 5\")\n",
    "x = create_model('birch', num_clusters = 5)\n",
    "\n",
    "print(\"For Cluster = 6\")\n",
    "x = create_model('birch', num_clusters = 6)"
   ]
  },
  {
   "cell_type": "code",
   "execution_count": null,
   "id": "1fb53a00",
   "metadata": {},
   "outputs": [],
   "source": [
    "setup(data= df, pca=True, pca_method ='linear', verbose =False)\n",
    "x=create_model('birch')\n",
    "plot_model(x,plot='tsne')"
   ]
  },
  {
   "cell_type": "code",
   "execution_count": null,
   "id": "e9832a7b",
   "metadata": {},
   "outputs": [],
   "source": [
    "setup(data= df, pca=True, pca_method ='linear', verbose =False)\n",
    "\n",
    "print(\"For Cluster = 3\")\n",
    "x = create_model('birch', num_clusters = 3)\n",
    "\n",
    "print(\"For Cluster = 4\")\n",
    "x = create_model('birch', num_clusters = 4)\n",
    "\n",
    "print(\"For Cluster = 5\")\n",
    "x = create_model('birch', num_clusters = 5)\n",
    "\n",
    "print(\"For Cluster = 6\")\n",
    "x = create_model('birch', num_clusters = 6)"
   ]
  },
  {
   "cell_type": "code",
   "execution_count": null,
   "id": "6b48341e",
   "metadata": {},
   "outputs": [],
   "source": [
    "setup(data = df, transformation = True, normalize = True,\n",
    "      normalize_method = 'zscore', transformation_method = 'yeo-johnson', verbose=False)\n",
    "x = create_model('birch')\n",
    "plot_model(x,plot='tsne')"
   ]
  },
  {
   "cell_type": "code",
   "execution_count": null,
   "id": "d0bfae72",
   "metadata": {},
   "outputs": [],
   "source": [
    "setup(data = df, transformation = True, normalize = True,\n",
    "      normalize_method = 'zscore', transformation_method = 'yeo-johnson', verbose=False)\n",
    "\n",
    "print(\"For Cluster = 3\")\n",
    "x = create_model('birch', num_clusters = 3)\n",
    "\n",
    "print(\"For Cluster = 4\")\n",
    "x = create_model('birch', num_clusters = 4)\n",
    "\n",
    "print(\"For Cluster = 5\")\n",
    "x = create_model('birch', num_clusters = 5)\n",
    "\n",
    "print(\"For Cluster = 6\")\n",
    "x = create_model('birch', num_clusters = 6)\n"
   ]
  },
  {
   "cell_type": "code",
   "execution_count": null,
   "id": "399f9934",
   "metadata": {},
   "outputs": [],
   "source": [
    "setup(data = df, transformation = True, normalize = True, pca = True,\n",
    "      normalize_method = 'zscore', transformation_method = 'yeo-johnson',\n",
    "      pca_method = 'linear', verbose=False)\n",
    "x = create_model('birch')\n",
    "plot_model(x,plot='tsne')"
   ]
  },
  {
   "cell_type": "code",
   "execution_count": null,
   "id": "1d6417eb",
   "metadata": {},
   "outputs": [],
   "source": [
    "setup(data = df, transformation = True, normalize = True, pca = True,\n",
    "      normalize_method = 'zscore',\n",
    "      transformation_method = 'yeo-johnson',\n",
    "      pca_method = 'linear', verbose=False)\n",
    "\n",
    "print(\"For Cluster = 3\")\n",
    "x = create_model('birch', num_clusters = 3)\n",
    "\n",
    "print(\"For Cluster = 4\")\n",
    "x = create_model('birch', num_clusters = 4)\n",
    "\n",
    "print(\"For Cluster = 5\")\n",
    "x = create_model('birch', num_clusters = 5)\n",
    "\n",
    "print(\"For Cluster = 6\")\n",
    "x = create_model('birch', num_clusters = 6)"
   ]
  }
 ],
 "metadata": {
  "kernelspec": {
   "display_name": "Python 3 (ipykernel)",
   "language": "python",
   "name": "python3"
  },
  "language_info": {
   "codemirror_mode": {
    "name": "ipython",
    "version": 3
   },
   "file_extension": ".py",
   "mimetype": "text/x-python",
   "name": "python",
   "nbconvert_exporter": "python",
   "pygments_lexer": "ipython3",
   "version": "3.9.13"
  }
 },
 "nbformat": 4,
 "nbformat_minor": 5
}
